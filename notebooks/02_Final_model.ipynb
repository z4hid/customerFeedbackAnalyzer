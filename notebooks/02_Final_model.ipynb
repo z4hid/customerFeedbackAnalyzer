{
 "cells": [
  {
   "cell_type": "code",
   "execution_count": 2,
   "metadata": {},
   "outputs": [],
   "source": [
    "import numpy as np\n",
    "import pandas as pd\n",
    "import re\n",
    "from nltk.corpus import stopwords\n",
    "from nltk.stem import PorterStemmer\n",
    "from sklearn.feature_extraction.text import TfidfVectorizer\n",
    "from sklearn.model_selection import train_test_split\n",
    "from sklearn.ensemble import RandomForestClassifier\n",
    "from sklearn.linear_model import LogisticRegression\n",
    "from sklearn.metrics import accuracy_score\n",
    "import pickle"
   ]
  },
  {
   "cell_type": "code",
   "execution_count": 3,
   "metadata": {},
   "outputs": [
    {
     "name": "stderr",
     "output_type": "stream",
     "text": [
      "[nltk_data] Downloading package stopwords to /home/z4hid/nltk_data...\n",
      "[nltk_data]   Package stopwords is already up-to-date!\n"
     ]
    },
    {
     "data": {
      "text/plain": [
       "True"
      ]
     },
     "execution_count": 3,
     "metadata": {},
     "output_type": "execute_result"
    }
   ],
   "source": [
    "import nltk\n",
    "nltk.download('stopwords')"
   ]
  },
  {
   "cell_type": "code",
   "execution_count": 4,
   "metadata": {},
   "outputs": [
    {
     "name": "stdout",
     "output_type": "stream",
     "text": [
      "['i', 'me', 'my', 'myself', 'we', 'our', 'ours', 'ourselves', 'you', \"you're\", \"you've\", \"you'll\", \"you'd\", 'your', 'yours', 'yourself', 'yourselves', 'he', 'him', 'his', 'himself', 'she', \"she's\", 'her', 'hers', 'herself', 'it', \"it's\", 'its', 'itself', 'they', 'them', 'their', 'theirs', 'themselves', 'what', 'which', 'who', 'whom', 'this', 'that', \"that'll\", 'these', 'those', 'am', 'is', 'are', 'was', 'were', 'be', 'been', 'being', 'have', 'has', 'had', 'having', 'do', 'does', 'did', 'doing', 'a', 'an', 'the', 'and', 'but', 'if', 'or', 'because', 'as', 'until', 'while', 'of', 'at', 'by', 'for', 'with', 'about', 'against', 'between', 'into', 'through', 'during', 'before', 'after', 'above', 'below', 'to', 'from', 'up', 'down', 'in', 'out', 'on', 'off', 'over', 'under', 'again', 'further', 'then', 'once', 'here', 'there', 'when', 'where', 'why', 'how', 'all', 'any', 'both', 'each', 'few', 'more', 'most', 'other', 'some', 'such', 'no', 'nor', 'not', 'only', 'own', 'same', 'so', 'than', 'too', 'very', 's', 't', 'can', 'will', 'just', 'don', \"don't\", 'should', \"should've\", 'now', 'd', 'll', 'm', 'o', 're', 've', 'y', 'ain', 'aren', \"aren't\", 'couldn', \"couldn't\", 'didn', \"didn't\", 'doesn', \"doesn't\", 'hadn', \"hadn't\", 'hasn', \"hasn't\", 'haven', \"haven't\", 'isn', \"isn't\", 'ma', 'mightn', \"mightn't\", 'mustn', \"mustn't\", 'needn', \"needn't\", 'shan', \"shan't\", 'shouldn', \"shouldn't\", 'wasn', \"wasn't\", 'weren', \"weren't\", 'won', \"won't\", 'wouldn', \"wouldn't\"]\n"
     ]
    }
   ],
   "source": [
    "print(stopwords.words('english'))"
   ]
  },
  {
   "cell_type": "markdown",
   "metadata": {},
   "source": [
    "# Data Processing"
   ]
  },
  {
   "cell_type": "code",
   "execution_count": 5,
   "metadata": {},
   "outputs": [],
   "source": [
    "train_data = pd.read_csv('train.csv')\n",
    "test_data = pd.read_csv('test.csv')"
   ]
  },
  {
   "cell_type": "code",
   "execution_count": 6,
   "metadata": {},
   "outputs": [
    {
     "data": {
      "text/plain": [
       "(2520, 5)"
      ]
     },
     "execution_count": 6,
     "metadata": {},
     "output_type": "execute_result"
    }
   ],
   "source": [
    "train_data.shape"
   ]
  },
  {
   "cell_type": "code",
   "execution_count": 7,
   "metadata": {},
   "outputs": [
    {
     "data": {
      "text/plain": [
       "(630, 5)"
      ]
     },
     "execution_count": 7,
     "metadata": {},
     "output_type": "execute_result"
    }
   ],
   "source": [
    "test_data.shape"
   ]
  },
  {
   "cell_type": "code",
   "execution_count": 8,
   "metadata": {},
   "outputs": [
    {
     "data": {
      "text/html": [
       "<div>\n",
       "<style scoped>\n",
       "    .dataframe tbody tr th:only-of-type {\n",
       "        vertical-align: middle;\n",
       "    }\n",
       "\n",
       "    .dataframe tbody tr th {\n",
       "        vertical-align: top;\n",
       "    }\n",
       "\n",
       "    .dataframe thead th {\n",
       "        text-align: right;\n",
       "    }\n",
       "</style>\n",
       "<table border=\"1\" class=\"dataframe\">\n",
       "  <thead>\n",
       "    <tr style=\"text-align: right;\">\n",
       "      <th></th>\n",
       "      <th>rating</th>\n",
       "      <th>date</th>\n",
       "      <th>variation</th>\n",
       "      <th>verified_reviews</th>\n",
       "      <th>feedback</th>\n",
       "    </tr>\n",
       "  </thead>\n",
       "  <tbody>\n",
       "    <tr>\n",
       "      <th>0</th>\n",
       "      <td>5</td>\n",
       "      <td>30-Jul-18</td>\n",
       "      <td>Configuration: Fire TV Stick</td>\n",
       "      <td>Just the perfect cost effective solution.  Tha...</td>\n",
       "      <td>1</td>\n",
       "    </tr>\n",
       "    <tr>\n",
       "      <th>1</th>\n",
       "      <td>5</td>\n",
       "      <td>30-Jul-18</td>\n",
       "      <td>Configuration: Fire TV Stick</td>\n",
       "      <td>I purchased the Fire Stick to be able to watch...</td>\n",
       "      <td>1</td>\n",
       "    </tr>\n",
       "    <tr>\n",
       "      <th>2</th>\n",
       "      <td>2</td>\n",
       "      <td>30-Jul-18</td>\n",
       "      <td>Configuration: Fire TV Stick</td>\n",
       "      <td>\"I’m very unhappy with this Firestick, every t...</td>\n",
       "      <td>0</td>\n",
       "    </tr>\n",
       "    <tr>\n",
       "      <th>3</th>\n",
       "      <td>4</td>\n",
       "      <td>30-Jul-18</td>\n",
       "      <td>White  Dot</td>\n",
       "      <td>\"Handy if you don't expect much out of it much...</td>\n",
       "      <td>1</td>\n",
       "    </tr>\n",
       "    <tr>\n",
       "      <th>4</th>\n",
       "      <td>4</td>\n",
       "      <td>29-Jul-18</td>\n",
       "      <td>Charcoal Fabric</td>\n",
       "      <td>\"Good quality, great sound quality\"</td>\n",
       "      <td>1</td>\n",
       "    </tr>\n",
       "  </tbody>\n",
       "</table>\n",
       "</div>"
      ],
      "text/plain": [
       "   rating       date                     variation  \\\n",
       "0       5  30-Jul-18  Configuration: Fire TV Stick   \n",
       "1       5  30-Jul-18  Configuration: Fire TV Stick   \n",
       "2       2  30-Jul-18  Configuration: Fire TV Stick   \n",
       "3       4  30-Jul-18                    White  Dot   \n",
       "4       4  29-Jul-18              Charcoal Fabric    \n",
       "\n",
       "                                    verified_reviews  feedback  \n",
       "0  Just the perfect cost effective solution.  Tha...         1  \n",
       "1  I purchased the Fire Stick to be able to watch...         1  \n",
       "2  \"I’m very unhappy with this Firestick, every t...         0  \n",
       "3  \"Handy if you don't expect much out of it much...         1  \n",
       "4                \"Good quality, great sound quality\"         1  "
      ]
     },
     "execution_count": 8,
     "metadata": {},
     "output_type": "execute_result"
    }
   ],
   "source": [
    "train_data.head()"
   ]
  },
  {
   "cell_type": "code",
   "execution_count": 9,
   "metadata": {},
   "outputs": [
    {
     "data": {
      "text/plain": [
       "rating              0\n",
       "date                0\n",
       "variation           0\n",
       "verified_reviews    1\n",
       "feedback            0\n",
       "dtype: int64"
      ]
     },
     "execution_count": 9,
     "metadata": {},
     "output_type": "execute_result"
    }
   ],
   "source": [
    "train_data.isnull().sum()"
   ]
  },
  {
   "cell_type": "code",
   "execution_count": 10,
   "metadata": {},
   "outputs": [],
   "source": [
    "train_data.dropna(inplace=True)"
   ]
  },
  {
   "cell_type": "code",
   "execution_count": 11,
   "metadata": {},
   "outputs": [
    {
     "data": {
      "text/plain": [
       "rating              0\n",
       "date                0\n",
       "variation           0\n",
       "verified_reviews    0\n",
       "feedback            0\n",
       "dtype: int64"
      ]
     },
     "execution_count": 11,
     "metadata": {},
     "output_type": "execute_result"
    }
   ],
   "source": [
    "train_data.isnull().sum()"
   ]
  },
  {
   "cell_type": "code",
   "execution_count": 12,
   "metadata": {},
   "outputs": [
    {
     "data": {
      "text/plain": [
       "feedback\n",
       "1    2321\n",
       "0     198\n",
       "Name: count, dtype: int64"
      ]
     },
     "execution_count": 12,
     "metadata": {},
     "output_type": "execute_result"
    }
   ],
   "source": [
    "train_data['feedback'].value_counts()"
   ]
  },
  {
   "cell_type": "markdown",
   "metadata": {},
   "source": [
    "## Stemming\n",
    "\n",
    "Stemming is the process of reducing a word to its root word\n",
    "\n",
    "example: actor, actress, acting ==> act"
   ]
  },
  {
   "cell_type": "code",
   "execution_count": 13,
   "metadata": {},
   "outputs": [],
   "source": [
    "port_stem = PorterStemmer()"
   ]
  },
  {
   "cell_type": "code",
   "execution_count": 14,
   "metadata": {},
   "outputs": [],
   "source": [
    "def stemming(text):\n",
    "    stemmed_text = re.sub('[^a-zA-Z]', ' ', text)\n",
    "    stemmed_text = stemmed_text.lower()\n",
    "    stemmed_text = stemmed_text.split()\n",
    "    stemmed_text = [port_stem.stem(word) for word in stemmed_text if word not in stopwords.words('english')]\n",
    "    stemmed_text = ' '.join(stemmed_text)\n",
    "    return stemmed_text"
   ]
  },
  {
   "cell_type": "code",
   "execution_count": 15,
   "metadata": {},
   "outputs": [],
   "source": [
    "train_data['stemmed_content'] = train_data['verified_reviews'].apply(stemming)"
   ]
  },
  {
   "cell_type": "code",
   "execution_count": 16,
   "metadata": {},
   "outputs": [
    {
     "data": {
      "text/html": [
       "<div>\n",
       "<style scoped>\n",
       "    .dataframe tbody tr th:only-of-type {\n",
       "        vertical-align: middle;\n",
       "    }\n",
       "\n",
       "    .dataframe tbody tr th {\n",
       "        vertical-align: top;\n",
       "    }\n",
       "\n",
       "    .dataframe thead th {\n",
       "        text-align: right;\n",
       "    }\n",
       "</style>\n",
       "<table border=\"1\" class=\"dataframe\">\n",
       "  <thead>\n",
       "    <tr style=\"text-align: right;\">\n",
       "      <th></th>\n",
       "      <th>rating</th>\n",
       "      <th>date</th>\n",
       "      <th>variation</th>\n",
       "      <th>verified_reviews</th>\n",
       "      <th>feedback</th>\n",
       "      <th>stemmed_content</th>\n",
       "    </tr>\n",
       "  </thead>\n",
       "  <tbody>\n",
       "    <tr>\n",
       "      <th>0</th>\n",
       "      <td>5</td>\n",
       "      <td>30-Jul-18</td>\n",
       "      <td>Configuration: Fire TV Stick</td>\n",
       "      <td>Just the perfect cost effective solution.  Tha...</td>\n",
       "      <td>1</td>\n",
       "      <td>perfect cost effect solut thank amazon</td>\n",
       "    </tr>\n",
       "    <tr>\n",
       "      <th>1</th>\n",
       "      <td>5</td>\n",
       "      <td>30-Jul-18</td>\n",
       "      <td>Configuration: Fire TV Stick</td>\n",
       "      <td>I purchased the Fire Stick to be able to watch...</td>\n",
       "      <td>1</td>\n",
       "      <td>purchas fire stick abl watch movi conveni love...</td>\n",
       "    </tr>\n",
       "    <tr>\n",
       "      <th>2</th>\n",
       "      <td>2</td>\n",
       "      <td>30-Jul-18</td>\n",
       "      <td>Configuration: Fire TV Stick</td>\n",
       "      <td>\"I’m very unhappy with this Firestick, every t...</td>\n",
       "      <td>0</td>\n",
       "      <td>unhappi firestick everi time chang program cha...</td>\n",
       "    </tr>\n",
       "    <tr>\n",
       "      <th>3</th>\n",
       "      <td>4</td>\n",
       "      <td>30-Jul-18</td>\n",
       "      <td>White  Dot</td>\n",
       "      <td>\"Handy if you don't expect much out of it much...</td>\n",
       "      <td>1</td>\n",
       "      <td>handi expect much much dumber assist phone</td>\n",
       "    </tr>\n",
       "    <tr>\n",
       "      <th>4</th>\n",
       "      <td>4</td>\n",
       "      <td>29-Jul-18</td>\n",
       "      <td>Charcoal Fabric</td>\n",
       "      <td>\"Good quality, great sound quality\"</td>\n",
       "      <td>1</td>\n",
       "      <td>good qualiti great sound qualiti</td>\n",
       "    </tr>\n",
       "    <tr>\n",
       "      <th>...</th>\n",
       "      <td>...</td>\n",
       "      <td>...</td>\n",
       "      <td>...</td>\n",
       "      <td>...</td>\n",
       "      <td>...</td>\n",
       "      <td>...</td>\n",
       "    </tr>\n",
       "    <tr>\n",
       "      <th>2515</th>\n",
       "      <td>5</td>\n",
       "      <td>30-Jul-18</td>\n",
       "      <td>Black  Dot</td>\n",
       "      <td>\"I love this technology. I'm older, but this i...</td>\n",
       "      <td>1</td>\n",
       "      <td>love technolog older easi set use dot bedroom ...</td>\n",
       "    </tr>\n",
       "    <tr>\n",
       "      <th>2516</th>\n",
       "      <td>5</td>\n",
       "      <td>30-Jul-18</td>\n",
       "      <td>White  Spot</td>\n",
       "      <td>Love my Echo Spot!</td>\n",
       "      <td>1</td>\n",
       "      <td>love echo spot</td>\n",
       "    </tr>\n",
       "    <tr>\n",
       "      <th>2517</th>\n",
       "      <td>5</td>\n",
       "      <td>29-Jul-18</td>\n",
       "      <td>Black  Spot</td>\n",
       "      <td>Hands free control</td>\n",
       "      <td>1</td>\n",
       "      <td>hand free control</td>\n",
       "    </tr>\n",
       "    <tr>\n",
       "      <th>2518</th>\n",
       "      <td>5</td>\n",
       "      <td>23-Jul-18</td>\n",
       "      <td>Black  Spot</td>\n",
       "      <td>It has replaced my clock and Google Mini on my...</td>\n",
       "      <td>1</td>\n",
       "      <td>replac clock googl mini nightstand outstand li...</td>\n",
       "    </tr>\n",
       "    <tr>\n",
       "      <th>2519</th>\n",
       "      <td>5</td>\n",
       "      <td>30-Jul-18</td>\n",
       "      <td>Charcoal Fabric</td>\n",
       "      <td>Easy to set up.</td>\n",
       "      <td>1</td>\n",
       "      <td>easi set</td>\n",
       "    </tr>\n",
       "  </tbody>\n",
       "</table>\n",
       "<p>2519 rows × 6 columns</p>\n",
       "</div>"
      ],
      "text/plain": [
       "      rating       date                     variation  \\\n",
       "0          5  30-Jul-18  Configuration: Fire TV Stick   \n",
       "1          5  30-Jul-18  Configuration: Fire TV Stick   \n",
       "2          2  30-Jul-18  Configuration: Fire TV Stick   \n",
       "3          4  30-Jul-18                    White  Dot   \n",
       "4          4  29-Jul-18              Charcoal Fabric    \n",
       "...      ...        ...                           ...   \n",
       "2515       5  30-Jul-18                    Black  Dot   \n",
       "2516       5  30-Jul-18                   White  Spot   \n",
       "2517       5  29-Jul-18                   Black  Spot   \n",
       "2518       5  23-Jul-18                   Black  Spot   \n",
       "2519       5  30-Jul-18              Charcoal Fabric    \n",
       "\n",
       "                                       verified_reviews  feedback  \\\n",
       "0     Just the perfect cost effective solution.  Tha...         1   \n",
       "1     I purchased the Fire Stick to be able to watch...         1   \n",
       "2     \"I’m very unhappy with this Firestick, every t...         0   \n",
       "3     \"Handy if you don't expect much out of it much...         1   \n",
       "4                   \"Good quality, great sound quality\"         1   \n",
       "...                                                 ...       ...   \n",
       "2515  \"I love this technology. I'm older, but this i...         1   \n",
       "2516                                 Love my Echo Spot!         1   \n",
       "2517                                 Hands free control         1   \n",
       "2518  It has replaced my clock and Google Mini on my...         1   \n",
       "2519                                    Easy to set up.         1   \n",
       "\n",
       "                                        stemmed_content  \n",
       "0                perfect cost effect solut thank amazon  \n",
       "1     purchas fire stick abl watch movi conveni love...  \n",
       "2     unhappi firestick everi time chang program cha...  \n",
       "3            handi expect much much dumber assist phone  \n",
       "4                      good qualiti great sound qualiti  \n",
       "...                                                 ...  \n",
       "2515  love technolog older easi set use dot bedroom ...  \n",
       "2516                                     love echo spot  \n",
       "2517                                  hand free control  \n",
       "2518  replac clock googl mini nightstand outstand li...  \n",
       "2519                                           easi set  \n",
       "\n",
       "[2519 rows x 6 columns]"
      ]
     },
     "execution_count": 16,
     "metadata": {},
     "output_type": "execute_result"
    }
   ],
   "source": [
    "train_data"
   ]
  },
  {
   "cell_type": "code",
   "execution_count": 17,
   "metadata": {},
   "outputs": [
    {
     "name": "stdout",
     "output_type": "stream",
     "text": [
      "0                  perfect cost effect solut thank amazon\n",
      "1       purchas fire stick abl watch movi conveni love...\n",
      "2       unhappi firestick everi time chang program cha...\n",
      "3              handi expect much much dumber assist phone\n",
      "4                        good qualiti great sound qualiti\n",
      "                              ...                        \n",
      "2515    love technolog older easi set use dot bedroom ...\n",
      "2516                                       love echo spot\n",
      "2517                                    hand free control\n",
      "2518    replac clock googl mini nightstand outstand li...\n",
      "2519                                             easi set\n",
      "Name: stemmed_content, Length: 2519, dtype: object\n"
     ]
    }
   ],
   "source": [
    "print(train_data['stemmed_content'])"
   ]
  },
  {
   "cell_type": "code",
   "execution_count": 18,
   "metadata": {},
   "outputs": [
    {
     "data": {
      "text/plain": [
       "0       1\n",
       "1       1\n",
       "2       0\n",
       "3       1\n",
       "4       1\n",
       "       ..\n",
       "2515    1\n",
       "2516    1\n",
       "2517    1\n",
       "2518    1\n",
       "2519    1\n",
       "Name: feedback, Length: 2519, dtype: int64"
      ]
     },
     "execution_count": 18,
     "metadata": {},
     "output_type": "execute_result"
    }
   ],
   "source": [
    "train_data['feedback']"
   ]
  },
  {
   "cell_type": "code",
   "execution_count": 19,
   "metadata": {},
   "outputs": [],
   "source": [
    "X = train_data['stemmed_content'].values\n",
    "Y = train_data['feedback'].values"
   ]
  },
  {
   "cell_type": "code",
   "execution_count": 20,
   "metadata": {},
   "outputs": [
    {
     "data": {
      "text/plain": [
       "array(['perfect cost effect solut thank amazon',\n",
       "       'purchas fire stick abl watch movi conveni love varieti genr also enjoy give abil watch tv show awesom',\n",
       "       'unhappi firestick everi time chang program channel within program long delay roku work fine quick',\n",
       "       ..., 'hand free control',\n",
       "       'replac clock googl mini nightstand outstand littl devic hope updat give simpl face font color option clock',\n",
       "       'easi set'], dtype=object)"
      ]
     },
     "execution_count": 20,
     "metadata": {},
     "output_type": "execute_result"
    }
   ],
   "source": [
    "X"
   ]
  },
  {
   "cell_type": "code",
   "execution_count": 21,
   "metadata": {},
   "outputs": [
    {
     "data": {
      "text/plain": [
       "array([1, 1, 0, ..., 1, 1, 1])"
      ]
     },
     "execution_count": 21,
     "metadata": {},
     "output_type": "execute_result"
    }
   ],
   "source": [
    "Y"
   ]
  },
  {
   "cell_type": "markdown",
   "metadata": {},
   "source": [
    "## Splitting Data"
   ]
  },
  {
   "cell_type": "code",
   "execution_count": 22,
   "metadata": {},
   "outputs": [],
   "source": [
    "X_train, X_test, Y_train, Y_test = train_test_split(X, Y, test_size = 0.2, stratify=Y, random_state=2) "
   ]
  },
  {
   "cell_type": "code",
   "execution_count": 24,
   "metadata": {},
   "outputs": [
    {
     "data": {
      "text/plain": [
       "(2015,)"
      ]
     },
     "execution_count": 24,
     "metadata": {},
     "output_type": "execute_result"
    }
   ],
   "source": [
    "X_train.shape"
   ]
  },
  {
   "cell_type": "code",
   "execution_count": 25,
   "metadata": {},
   "outputs": [
    {
     "data": {
      "text/plain": [
       "(504,)"
      ]
     },
     "execution_count": 25,
     "metadata": {},
     "output_type": "execute_result"
    }
   ],
   "source": [
    "X_test.shape"
   ]
  },
  {
   "cell_type": "code",
   "execution_count": 26,
   "metadata": {},
   "outputs": [],
   "source": [
    "# Convert text to numerical data\n",
    "\n",
    "vectorizer = TfidfVectorizer()\n",
    "\n",
    "X_train = vectorizer.fit_transform(X_train)\n",
    "X_test = vectorizer.transform(X_test)"
   ]
  },
  {
   "cell_type": "code",
   "execution_count": 29,
   "metadata": {},
   "outputs": [
    {
     "name": "stdout",
     "output_type": "stream",
     "text": [
      "  (0, 685)\t0.4026296860749002\n",
      "  (0, 690)\t0.6690970970445966\n",
      "  (0, 645)\t0.2431730572761003\n",
      "  (0, 738)\t0.5753827203111989\n",
      "  (1, 645)\t0.30422558139378236\n",
      "  (1, 1370)\t0.5104370005889041\n",
      "  (1, 2239)\t0.70048055252814\n",
      "  (1, 613)\t0.39525670087335607\n",
      "  (2, 1148)\t0.39670750291110257\n",
      "  (2, 966)\t0.7154174620331645\n",
      "  (2, 874)\t0.3057643397572471\n",
      "  (2, 1219)\t0.4871439014140258\n",
      "  (3, 914)\t1.0\n",
      "  (4, 645)\t0.3287289945532186\n",
      "  (4, 1228)\t0.5527677926826177\n",
      "  (4, 1526)\t0.4449066648208739\n",
      "  (4, 1335)\t0.36133361236585587\n",
      "  (4, 1747)\t0.5078199441587781\n",
      "  (5, 914)\t0.17333658405747393\n",
      "  (5, 2110)\t0.23973994987263683\n",
      "  (5, 895)\t0.2359783423641524\n",
      "  (5, 1941)\t0.20861654946089714\n",
      "  (5, 716)\t0.284399632143079\n",
      "  (5, 736)\t0.3105231795792092\n",
      "  (5, 1201)\t0.3637302412373467\n",
      "  :\t:\n",
      "  (2012, 760)\t0.24654008991748683\n",
      "  (2012, 141)\t0.2777219123084682\n",
      "  (2012, 1882)\t0.18551823927549013\n",
      "  (2012, 1495)\t0.1911554240821941\n",
      "  (2012, 1225)\t0.1729566039558981\n",
      "  (2012, 28)\t0.2002450260546203\n",
      "  (2012, 888)\t0.16766479798256106\n",
      "  (2012, 2200)\t0.16821807253897758\n",
      "  (2012, 203)\t0.17624509557862\n",
      "  (2012, 1435)\t0.19543226311220743\n",
      "  (2012, 1799)\t0.17423845326320997\n",
      "  (2012, 2136)\t0.19658016681114857\n",
      "  (2012, 1)\t0.215835937250111\n",
      "  (2012, 1312)\t0.2777219123084682\n",
      "  (2012, 1331)\t0.30437475103961736\n",
      "  (2012, 954)\t0.30437475103961736\n",
      "  (2013, 1228)\t0.28080387426286185\n",
      "  (2013, 1772)\t0.5603698881468605\n",
      "  (2013, 722)\t0.7791885347316412\n",
      "  (2014, 914)\t0.23827420952538048\n",
      "  (2014, 1228)\t0.20472507427532824\n",
      "  (2014, 716)\t0.39094515394241286\n",
      "  (2014, 4)\t0.4963573798755569\n",
      "  (2014, 84)\t0.42354210747339827\n",
      "  (2014, 418)\t0.5680813025325018\n"
     ]
    }
   ],
   "source": [
    "print(X_train) # X_train"
   ]
  },
  {
   "cell_type": "code",
   "execution_count": 30,
   "metadata": {},
   "outputs": [
    {
     "name": "stdout",
     "output_type": "stream",
     "text": [
      "  (0, 576)\t0.5594578249956028\n",
      "  (0, 914)\t0.23136982393691874\n",
      "  (0, 1111)\t0.4345864185622294\n",
      "  (0, 1149)\t0.6140559193139729\n",
      "  (0, 1335)\t0.2598940541438279\n",
      "  (1, 516)\t0.667861690801501\n",
      "  (1, 914)\t0.6165969888757298\n",
      "  (1, 1590)\t0.4168559886449317\n",
      "  (2, 2)\t0.35834644684574535\n",
      "  (2, 28)\t0.42657184511836654\n",
      "  (2, 65)\t0.2352762051018016\n",
      "  (2, 99)\t0.38151635302281695\n",
      "  (2, 1747)\t0.6643067175569093\n",
      "  (2, 2249)\t0.2177412447910843\n",
      "  (3, 642)\t0.8593457381002069\n",
      "  (3, 2110)\t0.5113950551276486\n",
      "  (4, 6)\t0.7215376634547428\n",
      "  (4, 914)\t0.2647861909276092\n",
      "  (4, 1590)\t0.3580222135041918\n",
      "  (4, 2215)\t0.5301808822919561\n",
      "  (5, 864)\t0.7381730988456666\n",
      "  (5, 878)\t0.619945465311366\n",
      "  (5, 1228)\t0.26602273620963274\n",
      "  (6, 30)\t0.1694146562928196\n",
      "  (6, 110)\t0.17048812522101578\n",
      "  :\t:\n",
      "  (497, 1631)\t0.4125561684432945\n",
      "  (497, 1710)\t0.4125561684432945\n",
      "  (498, 65)\t0.21862733600752582\n",
      "  (498, 641)\t0.2516058376074602\n",
      "  (498, 962)\t0.4600380093142591\n",
      "  (498, 1659)\t0.4072785449251193\n",
      "  (498, 1825)\t0.36898440475593286\n",
      "  (498, 2318)\t0.6125653567651878\n",
      "  (499, 767)\t0.6802965216033743\n",
      "  (499, 895)\t0.5805053138855012\n",
      "  (499, 2351)\t0.44744857050285186\n",
      "  (500, 60)\t0.4405124921773466\n",
      "  (500, 304)\t0.6660540079645522\n",
      "  (500, 1700)\t0.6019308952945175\n",
      "  (501, 640)\t0.5820385940594084\n",
      "  (501, 726)\t0.5379714226492303\n",
      "  (501, 1590)\t0.33861394893608243\n",
      "  (501, 1822)\t0.3213172545279647\n",
      "  (501, 2318)\t0.3923182878309825\n",
      "  (502, 736)\t1.0\n",
      "  (503, 1373)\t0.4582185300418749\n",
      "  (503, 1590)\t0.2952555786019966\n",
      "  (503, 1638)\t0.5950413473547458\n",
      "  (503, 1929)\t0.46530703377288674\n",
      "  (503, 2199)\t0.3636964136342148\n"
     ]
    }
   ],
   "source": [
    "print(X_test) # X_test"
   ]
  },
  {
   "cell_type": "code",
   "execution_count": null,
   "metadata": {},
   "outputs": [],
   "source": []
  }
 ],
 "metadata": {
  "kernelspec": {
   "display_name": "venv",
   "language": "python",
   "name": "python3"
  },
  "language_info": {
   "codemirror_mode": {
    "name": "ipython",
    "version": 3
   },
   "file_extension": ".py",
   "mimetype": "text/x-python",
   "name": "python",
   "nbconvert_exporter": "python",
   "pygments_lexer": "ipython3",
   "version": "3.10.12"
  }
 },
 "nbformat": 4,
 "nbformat_minor": 2
}
